{
  "nbformat": 4,
  "nbformat_minor": 0,
  "metadata": {
    "colab": {
      "provenance": [],
      "authorship_tag": "ABX9TyNQVIHUFgORzlrW5vvg50CS",
      "include_colab_link": true
    },
    "kernelspec": {
      "name": "python3",
      "display_name": "Python 3"
    },
    "language_info": {
      "name": "python"
    }
  },
  "cells": [
    {
      "cell_type": "markdown",
      "metadata": {
        "id": "view-in-github",
        "colab_type": "text"
      },
      "source": [
        "<a href=\"https://colab.research.google.com/github/haoz07/rigor2024/blob/main/hw.ipynb\" target=\"_parent\"><img src=\"https://colab.research.google.com/assets/colab-badge.svg\" alt=\"Open In Colab\"/></a>"
      ]
    },
    {
      "cell_type": "code",
      "execution_count": 3,
      "metadata": {
        "id": "QksO7vy-5DJg"
      },
      "outputs": [],
      "source": [
        "from datetime import date"
      ]
    },
    {
      "cell_type": "code",
      "source": [
        "print(date.today())"
      ],
      "metadata": {
        "colab": {
          "base_uri": "https://localhost:8080/"
        },
        "id": "cI2ITmAm5Fku",
        "outputId": "63648ef8-8ee9-4dd9-c01b-8bac39ca3f39"
      },
      "execution_count": 4,
      "outputs": [
        {
          "output_type": "stream",
          "name": "stdout",
          "text": [
            "2024-10-23\n"
          ]
        }
      ]
    },
    {
      "cell_type": "code",
      "source": [
        "print(2*5)"
      ],
      "metadata": {
        "colab": {
          "base_uri": "https://localhost:8080/"
        },
        "id": "T852VlIN5GgX",
        "outputId": "95381712-bfc7-4b79-e6aa-9c3b3813ea10"
      },
      "execution_count": 5,
      "outputs": [
        {
          "output_type": "stream",
          "name": "stdout",
          "text": [
            "10\n"
          ]
        }
      ]
    },
    {
      "cell_type": "markdown",
      "source": [
        "# Reflection\n",
        "Using repositories like GitHub is immensely helpful for computational reproducibility. During research, it is important to keep track of the changes and checkpoint progress that you make. So if one ever need to reproduce results from an intermediate step, it is still possible. It is also crucial to have redundancy and keep multiple copies of your code and data. Having GitHub keeping a copy of your code ensures you progress will not be all lost in the case of disk corruption. GitHub also makes it easier to collaborate with other researchers. Part of making your research transparent is to make your code available. This would allow other researchers to inspect your code and see if they are able the reproduce the results that you presented in the paper. GitHub is an easy way to do so as the authors could easily attach the link in the paper. Additionally, GitHub allows for issue trackings. This enables other researchers to ask questions and find issues and potentially errors. Where traditionally, one might need to email the correspondence for any questions and issues, having GitHub would make it easier to approach authors and get answers on questions. If an issue is identified, the authors could simply update the repository where people could always get the latest iteration of the code, while still possible to access the older version that was used in the paper. In conclusion, making the code available on platforms like GitHub allows for more transparency, more collaboration, and more progress can be make in the scientific community."
      ],
      "metadata": {
        "id": "NjHn47t56cSQ"
      }
    },
    {
      "cell_type": "code",
      "source": [],
      "metadata": {
        "id": "QvAjeCIm7Lq4"
      },
      "execution_count": null,
      "outputs": []
    }
  ]
}